{
 "cells": [
  {
   "cell_type": "code",
   "execution_count": 1,
   "metadata": {},
   "outputs": [
    {
     "name": "stderr",
     "output_type": "stream",
     "text": [
      "Using TensorFlow backend.\n"
     ]
    }
   ],
   "source": [
    "import pandas as pd\n",
    "from matplotlib import pyplot as plt\n",
    "\n",
    "from sklearn.model_selection import train_test_split\n",
    "from sklearn.neural_network import MLPClassifier\n",
    "\n",
    "from sklearn.metrics import accuracy_score, recall_score, f1_score\n",
    "from sklearn.metrics import precision_score, confusion_matrix\n",
    "\n",
    "import warnings\n",
    "warnings.filterwarnings(\"ignore\")\n",
    "\n",
    "import keras\n",
    "from keras.models import Sequential\n",
    "from keras.layers import Dense\n",
    "\n",
    "import sys\n",
    "sys.path.append('../../')\n",
    "from lib import plotModule"
   ]
  },
  {
   "cell_type": "code",
   "execution_count": 2,
   "metadata": {},
   "outputs": [
    {
     "data": {
      "text/html": [
       "<div>\n",
       "<style scoped>\n",
       "    .dataframe tbody tr th:only-of-type {\n",
       "        vertical-align: middle;\n",
       "    }\n",
       "\n",
       "    .dataframe tbody tr th {\n",
       "        vertical-align: top;\n",
       "    }\n",
       "\n",
       "    .dataframe thead th {\n",
       "        text-align: right;\n",
       "    }\n",
       "</style>\n",
       "<table border=\"1\" class=\"dataframe\">\n",
       "  <thead>\n",
       "    <tr style=\"text-align: right;\">\n",
       "      <th></th>\n",
       "      <th>default</th>\n",
       "    </tr>\n",
       "  </thead>\n",
       "  <tbody>\n",
       "    <tr>\n",
       "      <th>0</th>\n",
       "      <td>0</td>\n",
       "    </tr>\n",
       "    <tr>\n",
       "      <th>1</th>\n",
       "      <td>0</td>\n",
       "    </tr>\n",
       "    <tr>\n",
       "      <th>2</th>\n",
       "      <td>0</td>\n",
       "    </tr>\n",
       "    <tr>\n",
       "      <th>3</th>\n",
       "      <td>0</td>\n",
       "    </tr>\n",
       "    <tr>\n",
       "      <th>4</th>\n",
       "      <td>1</td>\n",
       "    </tr>\n",
       "  </tbody>\n",
       "</table>\n",
       "</div>"
      ],
      "text/plain": [
       "   default\n",
       "0        0\n",
       "1        0\n",
       "2        0\n",
       "3        0\n",
       "4        1"
      ]
     },
     "execution_count": 2,
     "metadata": {},
     "output_type": "execute_result"
    }
   ],
   "source": [
    "classes = pd.read_csv('../../data/classes.csv')\n",
    "classes.head()"
   ]
  },
  {
   "cell_type": "code",
   "execution_count": 3,
   "metadata": {},
   "outputs": [
    {
     "data": {
      "text/html": [
       "<div>\n",
       "<style scoped>\n",
       "    .dataframe tbody tr th:only-of-type {\n",
       "        vertical-align: middle;\n",
       "    }\n",
       "\n",
       "    .dataframe tbody tr th {\n",
       "        vertical-align: top;\n",
       "    }\n",
       "\n",
       "    .dataframe thead th {\n",
       "        text-align: right;\n",
       "    }\n",
       "</style>\n",
       "<table border=\"1\" class=\"dataframe\">\n",
       "  <thead>\n",
       "    <tr style=\"text-align: right;\">\n",
       "      <th></th>\n",
       "      <th>clientid</th>\n",
       "      <th>income</th>\n",
       "      <th>age</th>\n",
       "      <th>loan</th>\n",
       "    </tr>\n",
       "  </thead>\n",
       "  <tbody>\n",
       "    <tr>\n",
       "      <th>0</th>\n",
       "      <td>-1.731185</td>\n",
       "      <td>1.453934</td>\n",
       "      <td>1.365380</td>\n",
       "      <td>1.202819</td>\n",
       "    </tr>\n",
       "    <tr>\n",
       "      <th>1</th>\n",
       "      <td>-1.729453</td>\n",
       "      <td>-0.762176</td>\n",
       "      <td>0.542659</td>\n",
       "      <td>0.696427</td>\n",
       "    </tr>\n",
       "    <tr>\n",
       "      <th>2</th>\n",
       "      <td>-1.727721</td>\n",
       "      <td>0.836821</td>\n",
       "      <td>1.674171</td>\n",
       "      <td>1.174711</td>\n",
       "    </tr>\n",
       "    <tr>\n",
       "      <th>3</th>\n",
       "      <td>-1.725989</td>\n",
       "      <td>-0.183070</td>\n",
       "      <td>0.364136</td>\n",
       "      <td>0.544980</td>\n",
       "    </tr>\n",
       "    <tr>\n",
       "      <th>4</th>\n",
       "      <td>-1.724257</td>\n",
       "      <td>1.509563</td>\n",
       "      <td>-1.686475</td>\n",
       "      <td>1.420765</td>\n",
       "    </tr>\n",
       "  </tbody>\n",
       "</table>\n",
       "</div>"
      ],
      "text/plain": [
       "   clientid    income       age      loan\n",
       "0 -1.731185  1.453934  1.365380  1.202819\n",
       "1 -1.729453 -0.762176  0.542659  0.696427\n",
       "2 -1.727721  0.836821  1.674171  1.174711\n",
       "3 -1.725989 -0.183070  0.364136  0.544980\n",
       "4 -1.724257  1.509563 -1.686475  1.420765"
      ]
     },
     "execution_count": 3,
     "metadata": {},
     "output_type": "execute_result"
    }
   ],
   "source": [
    "previsores = pd.read_csv('../../data/previsores.csv')\n",
    "previsores.head()"
   ]
  },
  {
   "cell_type": "code",
   "execution_count": 4,
   "metadata": {},
   "outputs": [],
   "source": [
    "previsores.drop('clientid', axis=1, inplace=True)\n",
    "X_train, X_test, y_train, y_test = train_test_split(previsores, classes, test_size=0.25, random_state=0)"
   ]
  },
  {
   "cell_type": "code",
   "execution_count": 5,
   "metadata": {},
   "outputs": [
    {
     "data": {
      "text/plain": [
       "MLPClassifier(activation='relu', alpha=0.0001, batch_size='auto', beta_1=0.9,\n",
       "              beta_2=0.999, early_stopping=False, epsilon=1e-08,\n",
       "              hidden_layer_sizes=100, learning_rate='constant',\n",
       "              learning_rate_init=0.001, max_fun=15000, max_iter=1000,\n",
       "              momentum=0.9, n_iter_no_change=10, nesterovs_momentum=True,\n",
       "              power_t=0.5, random_state=None, shuffle=True, solver='adam',\n",
       "              tol=0.0001, validation_fraction=0.1, verbose=False,\n",
       "              warm_start=False)"
      ]
     },
     "execution_count": 5,
     "metadata": {},
     "output_type": "execute_result"
    }
   ],
   "source": [
    "clf = MLPClassifier(max_iter=1000,\n",
    "                    activation='relu',\n",
    "                    solver='adam',\n",
    "                    hidden_layer_sizes=100)\n",
    "\n",
    "clf.fit(X_train, y_train)"
   ]
  },
  {
   "cell_type": "code",
   "execution_count": 6,
   "metadata": {},
   "outputs": [
    {
     "name": "stdout",
     "output_type": "stream",
     "text": [
      "accuracy 0.994\n",
      "precision 0.9841269841269841\n",
      "recall 0.96875\n",
      "f1 0.9763779527559054\n"
     ]
    }
   ],
   "source": [
    "y_pred = clf.predict(X_test)\n",
    "\n",
    "print(\"accuracy\", accuracy_score(y_test, y_pred))\n",
    "print(\"precision\", precision_score(y_test, y_pred))\n",
    "print(\"recall\", recall_score(y_test, y_pred))\n",
    "print(\"f1\", f1_score(y_test, y_pred))\n"
   ]
  },
  {
   "cell_type": "code",
   "execution_count": 7,
   "metadata": {},
   "outputs": [
    {
     "name": "stdout",
     "output_type": "stream",
     "text": [
      "Epoch 1/100\n",
      "1500/1500 [==============================] - 1s 467us/step - loss: 0.6585 - accuracy: 0.8540\n",
      "Epoch 2/100\n",
      "1500/1500 [==============================] - 0s 175us/step - loss: 0.5507 - accuracy: 0.8540\n",
      "Epoch 3/100\n",
      "1500/1500 [==============================] - 0s 169us/step - loss: 0.4294 - accuracy: 0.8540\n",
      "Epoch 4/100\n",
      "1500/1500 [==============================] - 0s 186us/step - loss: 0.3596 - accuracy: 0.8540\n",
      "Epoch 5/100\n",
      "1500/1500 [==============================] - 0s 179us/step - loss: 0.3208 - accuracy: 0.8540\n",
      "Epoch 6/100\n",
      "1500/1500 [==============================] - 0s 180us/step - loss: 0.2916 - accuracy: 0.8540\n",
      "Epoch 7/100\n",
      "1500/1500 [==============================] - 0s 168us/step - loss: 0.2696 - accuracy: 0.8540\n",
      "Epoch 8/100\n",
      "1500/1500 [==============================] - 0s 186us/step - loss: 0.2524 - accuracy: 0.8540\n",
      "Epoch 9/100\n",
      "1500/1500 [==============================] - 0s 174us/step - loss: 0.2375 - accuracy: 0.8540\n",
      "Epoch 10/100\n",
      "1500/1500 [==============================] - 0s 180us/step - loss: 0.2239 - accuracy: 0.8540\n",
      "Epoch 11/100\n",
      "1500/1500 [==============================] - 0s 160us/step - loss: 0.2112 - accuracy: 0.8540\n",
      "Epoch 12/100\n",
      "1500/1500 [==============================] - 0s 162us/step - loss: 0.1996 - accuracy: 0.8540\n",
      "Epoch 13/100\n",
      "1500/1500 [==============================] - 0s 161us/step - loss: 0.1889 - accuracy: 0.8540\n",
      "Epoch 14/100\n",
      "1500/1500 [==============================] - 0s 162us/step - loss: 0.1803 - accuracy: 0.8900\n",
      "Epoch 15/100\n",
      "1500/1500 [==============================] - 0s 161us/step - loss: 0.1746 - accuracy: 0.9260\n",
      "Epoch 16/100\n",
      "1500/1500 [==============================] - 0s 160us/step - loss: 0.1697 - accuracy: 0.9293\n",
      "Epoch 17/100\n",
      "1500/1500 [==============================] - 0s 163us/step - loss: 0.1652 - accuracy: 0.9320\n",
      "Epoch 18/100\n",
      "1500/1500 [==============================] - 0s 162us/step - loss: 0.1613 - accuracy: 0.9380\n",
      "Epoch 19/100\n",
      "1500/1500 [==============================] - 0s 164us/step - loss: 0.1578 - accuracy: 0.9440\n",
      "Epoch 20/100\n",
      "1500/1500 [==============================] - 0s 163us/step - loss: 0.1549 - accuracy: 0.9453\n",
      "Epoch 21/100\n",
      "1500/1500 [==============================] - 0s 162us/step - loss: 0.1518 - accuracy: 0.9480\n",
      "Epoch 22/100\n",
      "1500/1500 [==============================] - 0s 191us/step - loss: 0.1488 - accuracy: 0.9473\n",
      "Epoch 23/100\n",
      "1500/1500 [==============================] - 0s 195us/step - loss: 0.1464 - accuracy: 0.9480\n",
      "Epoch 24/100\n",
      "1500/1500 [==============================] - 0s 174us/step - loss: 0.1441 - accuracy: 0.9487\n",
      "Epoch 25/100\n",
      "1500/1500 [==============================] - 0s 165us/step - loss: 0.1421 - accuracy: 0.9480\n",
      "Epoch 26/100\n",
      "1500/1500 [==============================] - 0s 162us/step - loss: 0.1400 - accuracy: 0.9487\n",
      "Epoch 27/100\n",
      "1500/1500 [==============================] - 0s 164us/step - loss: 0.1383 - accuracy: 0.9493\n",
      "Epoch 28/100\n",
      "1500/1500 [==============================] - 0s 165us/step - loss: 0.1368 - accuracy: 0.9480\n",
      "Epoch 29/100\n",
      "1500/1500 [==============================] - 0s 183us/step - loss: 0.1351 - accuracy: 0.9460\n",
      "Epoch 30/100\n",
      "1500/1500 [==============================] - 0s 160us/step - loss: 0.1339 - accuracy: 0.9467\n",
      "Epoch 31/100\n",
      "1500/1500 [==============================] - 0s 167us/step - loss: 0.1326 - accuracy: 0.9487\n",
      "Epoch 32/100\n",
      "1500/1500 [==============================] - 0s 162us/step - loss: 0.1312 - accuracy: 0.9473\n",
      "Epoch 33/100\n",
      "1500/1500 [==============================] - 0s 161us/step - loss: 0.1301 - accuracy: 0.9487\n",
      "Epoch 34/100\n",
      "1500/1500 [==============================] - 0s 161us/step - loss: 0.1290 - accuracy: 0.9460\n",
      "Epoch 35/100\n",
      "1500/1500 [==============================] - 0s 161us/step - loss: 0.1280 - accuracy: 0.9500\n",
      "Epoch 36/100\n",
      "1500/1500 [==============================] - 0s 179us/step - loss: 0.1270 - accuracy: 0.9467\n",
      "Epoch 37/100\n",
      "1500/1500 [==============================] - 0s 169us/step - loss: 0.1260 - accuracy: 0.9467\n",
      "Epoch 38/100\n",
      "1500/1500 [==============================] - 0s 170us/step - loss: 0.1251 - accuracy: 0.9460\n",
      "Epoch 39/100\n",
      "1500/1500 [==============================] - 0s 166us/step - loss: 0.1241 - accuracy: 0.9467\n",
      "Epoch 40/100\n",
      "1500/1500 [==============================] - 0s 164us/step - loss: 0.1234 - accuracy: 0.9460\n",
      "Epoch 41/100\n",
      "1500/1500 [==============================] - 0s 164us/step - loss: 0.1227 - accuracy: 0.9467\n",
      "Epoch 42/100\n",
      "1500/1500 [==============================] - 0s 170us/step - loss: 0.1219 - accuracy: 0.9473\n",
      "Epoch 43/100\n",
      "1500/1500 [==============================] - 0s 174us/step - loss: 0.1212 - accuracy: 0.9467\n",
      "Epoch 44/100\n",
      "1500/1500 [==============================] - 0s 186us/step - loss: 0.1206 - accuracy: 0.9480\n",
      "Epoch 45/100\n",
      "1500/1500 [==============================] - 0s 168us/step - loss: 0.1196 - accuracy: 0.9487\n",
      "Epoch 46/100\n",
      "1500/1500 [==============================] - 0s 164us/step - loss: 0.1189 - accuracy: 0.9507\n",
      "Epoch 47/100\n",
      "1500/1500 [==============================] - 0s 171us/step - loss: 0.1188 - accuracy: 0.9500\n",
      "Epoch 48/100\n",
      "1500/1500 [==============================] - 0s 173us/step - loss: 0.1179 - accuracy: 0.9487\n",
      "Epoch 49/100\n",
      "1500/1500 [==============================] - 0s 168us/step - loss: 0.1174 - accuracy: 0.9493\n",
      "Epoch 50/100\n",
      "1500/1500 [==============================] - 0s 179us/step - loss: 0.1169 - accuracy: 0.9500\n",
      "Epoch 51/100\n",
      "1500/1500 [==============================] - 0s 191us/step - loss: 0.1162 - accuracy: 0.9507\n",
      "Epoch 52/100\n",
      "1500/1500 [==============================] - 0s 168us/step - loss: 0.1160 - accuracy: 0.9507\n",
      "Epoch 53/100\n",
      "1500/1500 [==============================] - 0s 161us/step - loss: 0.1153 - accuracy: 0.9500\n",
      "Epoch 54/100\n",
      "1500/1500 [==============================] - 0s 157us/step - loss: 0.1148 - accuracy: 0.9513\n",
      "Epoch 55/100\n",
      "1500/1500 [==============================] - 0s 160us/step - loss: 0.1144 - accuracy: 0.9507\n",
      "Epoch 56/100\n",
      "1500/1500 [==============================] - 0s 161us/step - loss: 0.1136 - accuracy: 0.9520\n",
      "Epoch 57/100\n",
      "1500/1500 [==============================] - 0s 199us/step - loss: 0.1131 - accuracy: 0.9513\n",
      "Epoch 58/100\n",
      "1500/1500 [==============================] - 0s 174us/step - loss: 0.1129 - accuracy: 0.9513\n",
      "Epoch 59/100\n",
      "1500/1500 [==============================] - 0s 169us/step - loss: 0.1122 - accuracy: 0.9520\n",
      "Epoch 60/100\n",
      "1500/1500 [==============================] - 0s 161us/step - loss: 0.1120 - accuracy: 0.9527\n",
      "Epoch 61/100\n",
      "1500/1500 [==============================] - 0s 168us/step - loss: 0.1113 - accuracy: 0.9493\n",
      "Epoch 62/100\n",
      "1500/1500 [==============================] - 0s 160us/step - loss: 0.1112 - accuracy: 0.9507\n",
      "Epoch 63/100\n",
      "1500/1500 [==============================] - 0s 187us/step - loss: 0.1106 - accuracy: 0.9513\n",
      "Epoch 64/100\n",
      "1500/1500 [==============================] - 0s 197us/step - loss: 0.1102 - accuracy: 0.9520\n",
      "Epoch 65/100\n",
      "1500/1500 [==============================] - 0s 184us/step - loss: 0.1099 - accuracy: 0.9520\n",
      "Epoch 66/100\n",
      "1500/1500 [==============================] - 0s 168us/step - loss: 0.1094 - accuracy: 0.9520\n",
      "Epoch 67/100\n",
      "1500/1500 [==============================] - 0s 160us/step - loss: 0.1093 - accuracy: 0.9520\n",
      "Epoch 68/100\n",
      "1500/1500 [==============================] - 0s 165us/step - loss: 0.1089 - accuracy: 0.9527\n",
      "Epoch 69/100\n",
      "1500/1500 [==============================] - 0s 159us/step - loss: 0.1086 - accuracy: 0.9527\n",
      "Epoch 70/100\n",
      "1500/1500 [==============================] - 0s 163us/step - loss: 0.1085 - accuracy: 0.9533\n",
      "Epoch 71/100\n",
      "1500/1500 [==============================] - 0s 161us/step - loss: 0.1083 - accuracy: 0.9527\n",
      "Epoch 72/100\n",
      "1500/1500 [==============================] - 0s 182us/step - loss: 0.1088 - accuracy: 0.9493\n",
      "Epoch 73/100\n",
      "1500/1500 [==============================] - 0s 177us/step - loss: 0.1074 - accuracy: 0.9507\n",
      "Epoch 74/100\n",
      "1500/1500 [==============================] - 0s 161us/step - loss: 0.1071 - accuracy: 0.9533\n",
      "Epoch 75/100\n",
      "1500/1500 [==============================] - 0s 162us/step - loss: 0.1071 - accuracy: 0.9520\n",
      "Epoch 76/100\n",
      "1500/1500 [==============================] - 0s 190us/step - loss: 0.1067 - accuracy: 0.9520\n",
      "Epoch 77/100\n",
      "1500/1500 [==============================] - 0s 159us/step - loss: 0.1065 - accuracy: 0.9560\n",
      "Epoch 78/100\n"
     ]
    },
    {
     "name": "stdout",
     "output_type": "stream",
     "text": [
      "1500/1500 [==============================] - 0s 169us/step - loss: 0.1061 - accuracy: 0.9533\n",
      "Epoch 79/100\n",
      "1500/1500 [==============================] - 0s 166us/step - loss: 0.1061 - accuracy: 0.9513\n",
      "Epoch 80/100\n",
      "1500/1500 [==============================] - 0s 163us/step - loss: 0.1059 - accuracy: 0.9553\n",
      "Epoch 81/100\n",
      "1500/1500 [==============================] - 0s 155us/step - loss: 0.1054 - accuracy: 0.9540\n",
      "Epoch 82/100\n",
      "1500/1500 [==============================] - 0s 161us/step - loss: 0.1057 - accuracy: 0.9527\n",
      "Epoch 83/100\n",
      "1500/1500 [==============================] - 0s 154us/step - loss: 0.1053 - accuracy: 0.9540\n",
      "Epoch 84/100\n",
      "1500/1500 [==============================] - 0s 155us/step - loss: 0.1050 - accuracy: 0.9527\n",
      "Epoch 85/100\n",
      "1500/1500 [==============================] - 0s 164us/step - loss: 0.1049 - accuracy: 0.9533\n",
      "Epoch 86/100\n",
      "1500/1500 [==============================] - 0s 156us/step - loss: 0.1044 - accuracy: 0.9547\n",
      "Epoch 87/100\n",
      "1500/1500 [==============================] - 0s 161us/step - loss: 0.1044 - accuracy: 0.9547\n",
      "Epoch 88/100\n",
      "1500/1500 [==============================] - 0s 160us/step - loss: 0.1041 - accuracy: 0.9540\n",
      "Epoch 89/100\n",
      "1500/1500 [==============================] - 0s 159us/step - loss: 0.1040 - accuracy: 0.9527\n",
      "Epoch 90/100\n",
      "1500/1500 [==============================] - 0s 154us/step - loss: 0.1040 - accuracy: 0.9553\n",
      "Epoch 91/100\n",
      "1500/1500 [==============================] - 0s 162us/step - loss: 0.1037 - accuracy: 0.9533\n",
      "Epoch 92/100\n",
      "1500/1500 [==============================] - 0s 160us/step - loss: 0.1034 - accuracy: 0.9547\n",
      "Epoch 93/100\n",
      "1500/1500 [==============================] - 0s 217us/step - loss: 0.1033 - accuracy: 0.9560\n",
      "Epoch 94/100\n",
      "1500/1500 [==============================] - 0s 202us/step - loss: 0.1031 - accuracy: 0.9540\n",
      "Epoch 95/100\n",
      "1500/1500 [==============================] - 1s 383us/step - loss: 0.1031 - accuracy: 0.9533\n",
      "Epoch 96/100\n",
      "1500/1500 [==============================] - 0s 168us/step - loss: 0.1028 - accuracy: 0.9540\n",
      "Epoch 97/100\n",
      "1500/1500 [==============================] - 0s 219us/step - loss: 0.1025 - accuracy: 0.9533\n",
      "Epoch 98/100\n",
      "1500/1500 [==============================] - 0s 198us/step - loss: 0.1027 - accuracy: 0.9513\n",
      "Epoch 99/100\n",
      "1500/1500 [==============================] - 0s 191us/step - loss: 0.1024 - accuracy: 0.9520\n",
      "Epoch 100/100\n",
      "1500/1500 [==============================] - 0s 169us/step - loss: 0.1020 - accuracy: 0.9540\n"
     ]
    },
    {
     "data": {
      "text/plain": [
       "<keras.callbacks.callbacks.History at 0x13bddee10>"
      ]
     },
     "execution_count": 7,
     "metadata": {},
     "output_type": "execute_result"
    }
   ],
   "source": [
    "keras_clf = Sequential()\n",
    "\n",
    "# Hidden layers\n",
    "keras_clf.add(Dense(units = 2, activation = 'relu', input_dim = 3))\n",
    "keras_clf.add(Dense(units = 2, activation = 'relu'))\n",
    "\n",
    "# Sigmoide para problemas de classificação binária\n",
    "# E softmax para problemas de multiclasse\n",
    "keras_clf.add(Dense(units = 1, activation = 'sigmoid'))\n",
    "\n",
    "keras_clf.compile(optimizer = 'adam', loss = 'binary_crossentropy', metrics = ['accuracy'])\n",
    "keras_clf.fit(X_train, y_train, batch_size = 10, nb_epoch = 100)"
   ]
  },
  {
   "cell_type": "code",
   "execution_count": 8,
   "metadata": {},
   "outputs": [
    {
     "name": "stdout",
     "output_type": "stream",
     "text": [
      "accuracy 0.956\n",
      "precision 0.8387096774193549\n",
      "recall 0.8125\n",
      "f1 0.8253968253968254\n"
     ]
    }
   ],
   "source": [
    "y_pred_keras = keras_clf.predict(X_test)\n",
    "y_pred_keras = (y_pred_keras > 0.5)\n",
    "\n",
    "print(\"accuracy\", accuracy_score(y_test, y_pred_keras))\n",
    "print(\"precision\", precision_score(y_test, y_pred_keras))\n",
    "print(\"recall\", recall_score(y_test, y_pred_keras))\n",
    "print(\"f1\", f1_score(y_test, y_pred_keras))"
   ]
  },
  {
   "cell_type": "code",
   "execution_count": 9,
   "metadata": {},
   "outputs": [
    {
     "data": {
      "text/plain": [
       "<matplotlib.axes._subplots.AxesSubplot at 0x13bfdd390>"
      ]
     },
     "execution_count": 9,
     "metadata": {},
     "output_type": "execute_result"
    },
    {
     "data": {
      "image/png": "[encoded data removed]",
      "text/plain": [
       "<Figure size 1080x288 with 4 Axes>"
      ]
     },
     "metadata": {},
     "output_type": "display_data"
    }
   ],
   "source": [
    "confMatrix = plotModule.ConfusionMatrix()\n",
    "fig = plt.figure(figsize=(15, 4), facecolor='w')\n",
    "\n",
    "confMatrix.plot(cm=confusion_matrix(y_test, y_pred),\n",
    "                classes=classes['default'].unique(),\n",
    "                title='Confusion Matrix SciKit',\n",
    "                fig=fig,\n",
    "                subplot_index=1)\n",
    "\n",
    "confMatrix.plot(cm=confusion_matrix(y_test, y_pred_keras),\n",
    "                classes=classes['default'].unique(),\n",
    "                title='Confusion Matrix Keras',\n",
    "                fig=fig,\n",
    "                subplot_index=2)"
   ]
  },
  {
   "cell_type": "code",
   "execution_count": null,
   "metadata": {},
   "outputs": [],
   "source": []
  }
 ],
 "metadata": {
  "kernelspec": {
   "display_name": "Python 3",
   "language": "python",
   "name": "python3"
  },
  "language_info": {
   "codemirror_mode": {
    "name": "ipython",
    "version": 3
   },
   "file_extension": ".py",
   "mimetype": "text/x-python",
   "name": "python",
   "nbconvert_exporter": "python",
   "pygments_lexer": "ipython3",
   "version": "3.7.7"
  }
 },
 "nbformat": 4,
 "nbformat_minor": 4
}
