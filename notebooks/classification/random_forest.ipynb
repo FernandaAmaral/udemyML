{
 "cells": [
  {
   "cell_type": "code",
   "execution_count": 1,
   "metadata": {},
   "outputs": [],
   "source": [
    "import pandas as pd\n",
    "from sklearn.model_selection import train_test_split\n",
    "from sklearn.ensemble import RandomForestClassifier\n",
    "from sklearn.metrics import accuracy_score, recall_score, f1_score\n",
    "from sklearn.metrics import precision_score, confusion_matrix\n",
    "from matplotlib import pyplot as plt\n",
    "\n",
    "import warnings\n",
    "warnings.filterwarnings(\"ignore\")\n",
    "\n",
    "import sys\n",
    "sys.path.append('../../')\n",
    "from lib import plotModule"
   ]
  },
  {
   "cell_type": "code",
   "execution_count": 2,
   "metadata": {},
   "outputs": [
    {
     "data": {
      "text/html": [
       "<div>\n",
       "<style scoped>\n",
       "    .dataframe tbody tr th:only-of-type {\n",
       "        vertical-align: middle;\n",
       "    }\n",
       "\n",
       "    .dataframe tbody tr th {\n",
       "        vertical-align: top;\n",
       "    }\n",
       "\n",
       "    .dataframe thead th {\n",
       "        text-align: right;\n",
       "    }\n",
       "</style>\n",
       "<table border=\"1\" class=\"dataframe\">\n",
       "  <thead>\n",
       "    <tr style=\"text-align: right;\">\n",
       "      <th></th>\n",
       "      <th>clientid</th>\n",
       "      <th>income</th>\n",
       "      <th>age</th>\n",
       "      <th>loan</th>\n",
       "    </tr>\n",
       "  </thead>\n",
       "  <tbody>\n",
       "    <tr>\n",
       "      <th>0</th>\n",
       "      <td>-1.731185</td>\n",
       "      <td>1.453934</td>\n",
       "      <td>1.365380</td>\n",
       "      <td>1.202819</td>\n",
       "    </tr>\n",
       "    <tr>\n",
       "      <th>1</th>\n",
       "      <td>-1.729453</td>\n",
       "      <td>-0.762176</td>\n",
       "      <td>0.542659</td>\n",
       "      <td>0.696427</td>\n",
       "    </tr>\n",
       "    <tr>\n",
       "      <th>2</th>\n",
       "      <td>-1.727721</td>\n",
       "      <td>0.836821</td>\n",
       "      <td>1.674171</td>\n",
       "      <td>1.174711</td>\n",
       "    </tr>\n",
       "    <tr>\n",
       "      <th>3</th>\n",
       "      <td>-1.725989</td>\n",
       "      <td>-0.183070</td>\n",
       "      <td>0.364136</td>\n",
       "      <td>0.544980</td>\n",
       "    </tr>\n",
       "    <tr>\n",
       "      <th>4</th>\n",
       "      <td>-1.724257</td>\n",
       "      <td>1.509563</td>\n",
       "      <td>-1.686475</td>\n",
       "      <td>1.420765</td>\n",
       "    </tr>\n",
       "  </tbody>\n",
       "</table>\n",
       "</div>"
      ],
      "text/plain": [
       "   clientid    income       age      loan\n",
       "0 -1.731185  1.453934  1.365380  1.202819\n",
       "1 -1.729453 -0.762176  0.542659  0.696427\n",
       "2 -1.727721  0.836821  1.674171  1.174711\n",
       "3 -1.725989 -0.183070  0.364136  0.544980\n",
       "4 -1.724257  1.509563 -1.686475  1.420765"
      ]
     },
     "execution_count": 2,
     "metadata": {},
     "output_type": "execute_result"
    }
   ],
   "source": [
    "# Load\n",
    "classes = pd.read_csv('../../data/classes.csv')\n",
    "previsores = pd.read_csv('../../data/previsores.csv')\n",
    "previsores.head()"
   ]
  },
  {
   "cell_type": "code",
   "execution_count": 3,
   "metadata": {},
   "outputs": [],
   "source": [
    "previsores.drop('clientid', axis=1, inplace=True)\n",
    "X_train, X_test, y_train, y_test = train_test_split(previsores, classes, test_size=0.25, random_state=0)"
   ]
  },
  {
   "cell_type": "code",
   "execution_count": 4,
   "metadata": {},
   "outputs": [
    {
     "name": "stdout",
     "output_type": "stream",
     "text": [
      "Index(['income', 'age', 'loan'], dtype='object')\n",
      "[0.15264219 0.48975004 0.35760777]\n"
     ]
    }
   ],
   "source": [
    "clf = RandomForestClassifier(n_estimators=10, criterion='entropy')\n",
    "clf.fit(X_train, y_train)\n",
    "\n",
    "print(X_train.columns)\n",
    "print(clf.feature_importances_)"
   ]
  },
  {
   "cell_type": "code",
   "execution_count": 5,
   "metadata": {},
   "outputs": [
    {
     "name": "stdout",
     "output_type": "stream",
     "text": [
      "accuracy 0.978\n",
      "precision 0.9344262295081968\n",
      "recall 0.890625\n",
      "f1 0.9120000000000001\n"
     ]
    }
   ],
   "source": [
    "y_pred = clf.predict(X_test)\n",
    "\n",
    "print(\"accuracy\", accuracy_score(y_test, y_pred))\n",
    "print(\"precision\", precision_score(y_test, y_pred))\n",
    "print(\"recall\", recall_score(y_test, y_pred))\n",
    "print(\"f1\", f1_score(y_test, y_pred))"
   ]
  },
  {
   "cell_type": "code",
   "execution_count": 6,
   "metadata": {},
   "outputs": [
    {
     "data": {
      "text/plain": [
       "<matplotlib.axes._subplots.AxesSubplot at 0x11caad2d0>"
      ]
     },
     "execution_count": 6,
     "metadata": {},
     "output_type": "execute_result"
    },
    {
     "data": {
      "image/png": "[encoded data removed]",
      "text/plain": [
       "<Figure size 1080x288 with 2 Axes>"
      ]
     },
     "metadata": {},
     "output_type": "display_data"
    }
   ],
   "source": [
    "confMatrix = plotModule.ConfusionMatrix()\n",
    "fig = plt.figure(figsize=(15, 4), facecolor='w')\n",
    "\n",
    "confMatrix.plot(cm=confusion_matrix(y_test, y_pred),\n",
    "                classes=classes['default'].unique(),\n",
    "                title='Confusion Matrix',\n",
    "                fig=fig,\n",
    "                subplot_index=1)"
   ]
  },
  {
   "cell_type": "code",
   "execution_count": null,
   "metadata": {},
   "outputs": [],
   "source": []
  }
 ],
 "metadata": {
  "kernelspec": {
   "display_name": "Python 3",
   "language": "python",
   "name": "python3"
  },
  "language_info": {
   "codemirror_mode": {
    "name": "ipython",
    "version": 3
   },
   "file_extension": ".py",
   "mimetype": "text/x-python",
   "name": "python",
   "nbconvert_exporter": "python",
   "pygments_lexer": "ipython3",
   "version": "3.7.7"
  }
 },
 "nbformat": 4,
 "nbformat_minor": 4
}
