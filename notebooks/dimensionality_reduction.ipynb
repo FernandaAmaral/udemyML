{
 "cells": [
  {
   "cell_type": "markdown",
   "metadata": {},
   "source": [
    "## Dim Reduction"
   ]
  },
  {
   "cell_type": "code",
   "execution_count": 1,
   "metadata": {},
   "outputs": [],
   "source": [
    "import pandas as pd\n",
    "from sklearn.model_selection import train_test_split\n",
    "from sklearn.decomposition import PCA, KernelPCA\n",
    "from sklearn.ensemble import RandomForestClassifier\n",
    "from sklearn.metrics import accuracy_score, recall_score, f1_score\n",
    "from sklearn.metrics import precision_score, confusion_matrix"
   ]
  },
  {
   "cell_type": "code",
   "execution_count": 2,
   "metadata": {},
   "outputs": [
    {
     "data": {
      "text/html": [
       "<div>\n",
       "<style scoped>\n",
       "    .dataframe tbody tr th:only-of-type {\n",
       "        vertical-align: middle;\n",
       "    }\n",
       "\n",
       "    .dataframe tbody tr th {\n",
       "        vertical-align: top;\n",
       "    }\n",
       "\n",
       "    .dataframe thead th {\n",
       "        text-align: right;\n",
       "    }\n",
       "</style>\n",
       "<table border=\"1\" class=\"dataframe\">\n",
       "  <thead>\n",
       "    <tr style=\"text-align: right;\">\n",
       "      <th></th>\n",
       "      <th>age</th>\n",
       "      <th>workclass</th>\n",
       "      <th>final-weight</th>\n",
       "      <th>education</th>\n",
       "      <th>education-num</th>\n",
       "      <th>marital-status</th>\n",
       "      <th>occupation</th>\n",
       "      <th>relationship</th>\n",
       "      <th>race</th>\n",
       "      <th>sex</th>\n",
       "      <th>capital-gain</th>\n",
       "      <th>capital-loos</th>\n",
       "      <th>hour-per-week</th>\n",
       "      <th>native-country</th>\n",
       "    </tr>\n",
       "  </thead>\n",
       "  <tbody>\n",
       "    <tr>\n",
       "      <th>0</th>\n",
       "      <td>0.030671</td>\n",
       "      <td>2.150579</td>\n",
       "      <td>-1.063611</td>\n",
       "      <td>-0.335437</td>\n",
       "      <td>1.134739</td>\n",
       "      <td>0.921634</td>\n",
       "      <td>-1.317809</td>\n",
       "      <td>-0.277805</td>\n",
       "      <td>0.393668</td>\n",
       "      <td>0.703071</td>\n",
       "      <td>0.148453</td>\n",
       "      <td>-0.21666</td>\n",
       "      <td>-0.035429</td>\n",
       "      <td>0.291569</td>\n",
       "    </tr>\n",
       "    <tr>\n",
       "      <th>1</th>\n",
       "      <td>0.837109</td>\n",
       "      <td>1.463736</td>\n",
       "      <td>-1.008707</td>\n",
       "      <td>-0.335437</td>\n",
       "      <td>1.134739</td>\n",
       "      <td>-0.406212</td>\n",
       "      <td>-0.608387</td>\n",
       "      <td>-0.900181</td>\n",
       "      <td>0.393668</td>\n",
       "      <td>0.703071</td>\n",
       "      <td>-0.145920</td>\n",
       "      <td>-0.21666</td>\n",
       "      <td>-2.222153</td>\n",
       "      <td>0.291569</td>\n",
       "    </tr>\n",
       "    <tr>\n",
       "      <th>2</th>\n",
       "      <td>-0.042642</td>\n",
       "      <td>0.090050</td>\n",
       "      <td>0.245079</td>\n",
       "      <td>0.181332</td>\n",
       "      <td>-0.420060</td>\n",
       "      <td>-1.734058</td>\n",
       "      <td>-0.135438</td>\n",
       "      <td>-0.277805</td>\n",
       "      <td>0.393668</td>\n",
       "      <td>0.703071</td>\n",
       "      <td>-0.145920</td>\n",
       "      <td>-0.21666</td>\n",
       "      <td>-0.035429</td>\n",
       "      <td>0.291569</td>\n",
       "    </tr>\n",
       "    <tr>\n",
       "      <th>3</th>\n",
       "      <td>1.057047</td>\n",
       "      <td>0.090050</td>\n",
       "      <td>0.425801</td>\n",
       "      <td>-2.402511</td>\n",
       "      <td>-1.197459</td>\n",
       "      <td>-0.406212</td>\n",
       "      <td>-0.135438</td>\n",
       "      <td>-0.900181</td>\n",
       "      <td>-1.962621</td>\n",
       "      <td>0.703071</td>\n",
       "      <td>-0.145920</td>\n",
       "      <td>-0.21666</td>\n",
       "      <td>-0.035429</td>\n",
       "      <td>0.291569</td>\n",
       "    </tr>\n",
       "    <tr>\n",
       "      <th>4</th>\n",
       "      <td>-0.775768</td>\n",
       "      <td>0.090050</td>\n",
       "      <td>1.408176</td>\n",
       "      <td>-0.335437</td>\n",
       "      <td>1.134739</td>\n",
       "      <td>-0.406212</td>\n",
       "      <td>0.810458</td>\n",
       "      <td>2.211698</td>\n",
       "      <td>-1.962621</td>\n",
       "      <td>-1.422331</td>\n",
       "      <td>-0.145920</td>\n",
       "      <td>-0.21666</td>\n",
       "      <td>-0.035429</td>\n",
       "      <td>-4.054223</td>\n",
       "    </tr>\n",
       "  </tbody>\n",
       "</table>\n",
       "</div>"
      ],
      "text/plain": [
       "        age  workclass  final-weight  education  education-num  \\\n",
       "0  0.030671   2.150579     -1.063611  -0.335437       1.134739   \n",
       "1  0.837109   1.463736     -1.008707  -0.335437       1.134739   \n",
       "2 -0.042642   0.090050      0.245079   0.181332      -0.420060   \n",
       "3  1.057047   0.090050      0.425801  -2.402511      -1.197459   \n",
       "4 -0.775768   0.090050      1.408176  -0.335437       1.134739   \n",
       "\n",
       "   marital-status  occupation  relationship      race       sex  capital-gain  \\\n",
       "0        0.921634   -1.317809     -0.277805  0.393668  0.703071      0.148453   \n",
       "1       -0.406212   -0.608387     -0.900181  0.393668  0.703071     -0.145920   \n",
       "2       -1.734058   -0.135438     -0.277805  0.393668  0.703071     -0.145920   \n",
       "3       -0.406212   -0.135438     -0.900181 -1.962621  0.703071     -0.145920   \n",
       "4       -0.406212    0.810458      2.211698 -1.962621 -1.422331     -0.145920   \n",
       "\n",
       "   capital-loos  hour-per-week  native-country  \n",
       "0      -0.21666      -0.035429        0.291569  \n",
       "1      -0.21666      -2.222153        0.291569  \n",
       "2      -0.21666      -0.035429        0.291569  \n",
       "3      -0.21666      -0.035429        0.291569  \n",
       "4      -0.21666      -0.035429       -4.054223  "
      ]
     },
     "execution_count": 2,
     "metadata": {},
     "output_type": "execute_result"
    }
   ],
   "source": [
    "# Load\n",
    "classes = pd.read_csv('../data/classe_census.csv')\n",
    "previsores = pd.read_csv('../data/previsores_census.csv')\n",
    "previsores.head()"
   ]
  },
  {
   "cell_type": "code",
   "execution_count": 3,
   "metadata": {},
   "outputs": [],
   "source": [
    "X_train, X_test, y_train, y_test = train_test_split(previsores, classes, test_size=0.15, random_state=0)"
   ]
  },
  {
   "cell_type": "code",
   "execution_count": 4,
   "metadata": {},
   "outputs": [
    {
     "data": {
      "text/plain": [
       "array([0.151561  , 0.10109701, 0.08980379, 0.08076277, 0.07627678,\n",
       "       0.07357646])"
      ]
     },
     "execution_count": 4,
     "metadata": {},
     "output_type": "execute_result"
    }
   ],
   "source": [
    "pca = PCA(n_components = 6)\n",
    "X_train = pca.fit_transform(X_train)\n",
    "X_test = pca.transform(X_test)\n",
    "pca.explained_variance_ratio_"
   ]
  },
  {
   "cell_type": "code",
   "execution_count": 5,
   "metadata": {},
   "outputs": [
    {
     "name": "stdout",
     "output_type": "stream",
     "text": [
      "accuracy 0.8216990788126919\n"
     ]
    }
   ],
   "source": [
    "clf = RandomForestClassifier(n_estimators=10, criterion='entropy')\n",
    "clf.fit(X_train, y_train.values.ravel())\n",
    "y_pred = clf.predict(X_test)\n",
    "\n",
    "print(\"accuracy\", accuracy_score(y_test, y_pred))"
   ]
  },
  {
   "cell_type": "markdown",
   "metadata": {},
   "source": [
    "## Kernel PCA\n",
    "\n",
    "Para problemas não linearmente separáveis"
   ]
  },
  {
   "cell_type": "code",
   "execution_count": 6,
   "metadata": {},
   "outputs": [],
   "source": [
    "X_train, X_test, y_train, y_test = train_test_split(previsores, classes, test_size=0.15, random_state=0)"
   ]
  },
  {
   "cell_type": "code",
   "execution_count": null,
   "metadata": {},
   "outputs": [],
   "source": [
    "pca = KernelPCA(n_components = 6, kernel='rbf')\n",
    "X_train = pca.fit_transform(X_train)\n",
    "X_test = pca.transform(X_test)\n",
    "pca.explained_variance_ratio_"
   ]
  },
  {
   "cell_type": "code",
   "execution_count": null,
   "metadata": {},
   "outputs": [],
   "source": [
    "clf = RandomForestClassifier(n_estimators=10, criterion='entropy')\n",
    "clf.fit(X_train, y_train.values.ravel())\n",
    "y_pred = clf.predict(X_test)\n",
    "\n",
    "print(\"accuracy\", accuracy_score(y_test, y_pred))"
   ]
  },
  {
   "cell_type": "markdown",
   "metadata": {},
   "source": [
    "## LDA\n",
    "\n",
    "'PCA supervisionado' -> A redução de dimensionalidade das features leva em conta a classe"
   ]
  },
  {
   "cell_type": "code",
   "execution_count": null,
   "metadata": {},
   "outputs": [],
   "source": [
    "X_train, X_test, y_train, y_test = train_test_split(previsores, classes, test_size=0.15, random_state=0)"
   ]
  },
  {
   "cell_type": "code",
   "execution_count": null,
   "metadata": {},
   "outputs": [],
   "source": [
    "from sklearn.discriminant_analysis import LinearDiscriminantAnalysis\n",
    "\n",
    "lda = LinearDiscriminantAnalysis(n_components=6)\n",
    "X_train = lda.fit_transform(X_train, y_train)\n",
    "X_test = lda.transform(X_test)\n",
    "lda.explained_variance_ratio_"
   ]
  },
  {
   "cell_type": "code",
   "execution_count": null,
   "metadata": {},
   "outputs": [],
   "source": [
    "clf = RandomForestClassifier(n_estimators=10, criterion='entropy')\n",
    "clf.fit(X_train, y_train.values.ravel())\n",
    "y_pred = clf.predict(X_test)\n",
    "\n",
    "print(\"accuracy\", accuracy_score(y_test, y_pred))"
   ]
  }
 ],
 "metadata": {
  "kernelspec": {
   "display_name": "Python 3",
   "language": "python",
   "name": "python3"
  },
  "language_info": {
   "codemirror_mode": {
    "name": "ipython",
    "version": 3
   },
   "file_extension": ".py",
   "mimetype": "text/x-python",
   "name": "python",
   "nbconvert_exporter": "python",
   "pygments_lexer": "ipython3",
   "version": "3.7.7"
  }
 },
 "nbformat": 4,
 "nbformat_minor": 4
}
