{
 "cells": [
  {
   "cell_type": "code",
   "execution_count": 1,
   "metadata": {},
   "outputs": [
    {
     "name": "stderr",
     "output_type": "stream",
     "text": [
      "Using TensorFlow backend.\n"
     ]
    }
   ],
   "source": [
    "import pandas as pd\n",
    "from matplotlib import pyplot as plt\n",
    "\n",
    "from sklearn.model_selection import train_test_split\n",
    "from sklearn.neural_network import MLPClassifier\n",
    "\n",
    "from sklearn.metrics import accuracy_score, recall_score, f1_score\n",
    "from sklearn.metrics import precision_score, confusion_matrix\n",
    "\n",
    "import warnings\n",
    "warnings.filterwarnings(\"ignore\")\n",
    "\n",
    "import keras\n",
    "from keras.models import Sequential\n",
    "from keras.layers import Dense\n",
    "\n",
    "from lib import plotModule"
   ]
  },
  {
   "cell_type": "code",
   "execution_count": 2,
   "metadata": {},
   "outputs": [
    {
     "data": {
      "text/html": [
       "<div>\n",
       "<style scoped>\n",
       "    .dataframe tbody tr th:only-of-type {\n",
       "        vertical-align: middle;\n",
       "    }\n",
       "\n",
       "    .dataframe tbody tr th {\n",
       "        vertical-align: top;\n",
       "    }\n",
       "\n",
       "    .dataframe thead th {\n",
       "        text-align: right;\n",
       "    }\n",
       "</style>\n",
       "<table border=\"1\" class=\"dataframe\">\n",
       "  <thead>\n",
       "    <tr style=\"text-align: right;\">\n",
       "      <th></th>\n",
       "      <th>default</th>\n",
       "    </tr>\n",
       "  </thead>\n",
       "  <tbody>\n",
       "    <tr>\n",
       "      <th>0</th>\n",
       "      <td>0</td>\n",
       "    </tr>\n",
       "    <tr>\n",
       "      <th>1</th>\n",
       "      <td>0</td>\n",
       "    </tr>\n",
       "    <tr>\n",
       "      <th>2</th>\n",
       "      <td>0</td>\n",
       "    </tr>\n",
       "    <tr>\n",
       "      <th>3</th>\n",
       "      <td>0</td>\n",
       "    </tr>\n",
       "    <tr>\n",
       "      <th>4</th>\n",
       "      <td>1</td>\n",
       "    </tr>\n",
       "  </tbody>\n",
       "</table>\n",
       "</div>"
      ],
      "text/plain": [
       "   default\n",
       "0        0\n",
       "1        0\n",
       "2        0\n",
       "3        0\n",
       "4        1"
      ]
     },
     "execution_count": 2,
     "metadata": {},
     "output_type": "execute_result"
    }
   ],
   "source": [
    "classes = pd.read_csv('../data/classes.csv')\n",
    "classes.head()"
   ]
  },
  {
   "cell_type": "code",
   "execution_count": 3,
   "metadata": {},
   "outputs": [
    {
     "data": {
      "text/html": [
       "<div>\n",
       "<style scoped>\n",
       "    .dataframe tbody tr th:only-of-type {\n",
       "        vertical-align: middle;\n",
       "    }\n",
       "\n",
       "    .dataframe tbody tr th {\n",
       "        vertical-align: top;\n",
       "    }\n",
       "\n",
       "    .dataframe thead th {\n",
       "        text-align: right;\n",
       "    }\n",
       "</style>\n",
       "<table border=\"1\" class=\"dataframe\">\n",
       "  <thead>\n",
       "    <tr style=\"text-align: right;\">\n",
       "      <th></th>\n",
       "      <th>clientid</th>\n",
       "      <th>income</th>\n",
       "      <th>age</th>\n",
       "      <th>loan</th>\n",
       "    </tr>\n",
       "  </thead>\n",
       "  <tbody>\n",
       "    <tr>\n",
       "      <th>0</th>\n",
       "      <td>-1.731185</td>\n",
       "      <td>1.453934</td>\n",
       "      <td>1.365380</td>\n",
       "      <td>1.202819</td>\n",
       "    </tr>\n",
       "    <tr>\n",
       "      <th>1</th>\n",
       "      <td>-1.729453</td>\n",
       "      <td>-0.762176</td>\n",
       "      <td>0.542659</td>\n",
       "      <td>0.696427</td>\n",
       "    </tr>\n",
       "    <tr>\n",
       "      <th>2</th>\n",
       "      <td>-1.727721</td>\n",
       "      <td>0.836821</td>\n",
       "      <td>1.674171</td>\n",
       "      <td>1.174711</td>\n",
       "    </tr>\n",
       "    <tr>\n",
       "      <th>3</th>\n",
       "      <td>-1.725989</td>\n",
       "      <td>-0.183070</td>\n",
       "      <td>0.364136</td>\n",
       "      <td>0.544980</td>\n",
       "    </tr>\n",
       "    <tr>\n",
       "      <th>4</th>\n",
       "      <td>-1.724257</td>\n",
       "      <td>1.509563</td>\n",
       "      <td>-1.686475</td>\n",
       "      <td>1.420765</td>\n",
       "    </tr>\n",
       "  </tbody>\n",
       "</table>\n",
       "</div>"
      ],
      "text/plain": [
       "   clientid    income       age      loan\n",
       "0 -1.731185  1.453934  1.365380  1.202819\n",
       "1 -1.729453 -0.762176  0.542659  0.696427\n",
       "2 -1.727721  0.836821  1.674171  1.174711\n",
       "3 -1.725989 -0.183070  0.364136  0.544980\n",
       "4 -1.724257  1.509563 -1.686475  1.420765"
      ]
     },
     "execution_count": 3,
     "metadata": {},
     "output_type": "execute_result"
    }
   ],
   "source": [
    "previsores = pd.read_csv('../data/previsores.csv')\n",
    "previsores.head()"
   ]
  },
  {
   "cell_type": "code",
   "execution_count": 4,
   "metadata": {},
   "outputs": [],
   "source": [
    "previsores.drop('clientid', axis=1, inplace=True)\n",
    "X_train, X_test, y_train, y_test = train_test_split(previsores, classes, test_size=0.25, random_state=0)"
   ]
  },
  {
   "cell_type": "code",
   "execution_count": 5,
   "metadata": {},
   "outputs": [
    {
     "data": {
      "text/plain": [
       "MLPClassifier(activation='relu', alpha=0.0001, batch_size='auto', beta_1=0.9,\n",
       "              beta_2=0.999, early_stopping=False, epsilon=1e-08,\n",
       "              hidden_layer_sizes=100, learning_rate='constant',\n",
       "              learning_rate_init=0.001, max_fun=15000, max_iter=1000,\n",
       "              momentum=0.9, n_iter_no_change=10, nesterovs_momentum=True,\n",
       "              power_t=0.5, random_state=None, shuffle=True, solver='adam',\n",
       "              tol=0.0001, validation_fraction=0.1, verbose=False,\n",
       "              warm_start=False)"
      ]
     },
     "execution_count": 5,
     "metadata": {},
     "output_type": "execute_result"
    }
   ],
   "source": [
    "clf = MLPClassifier(max_iter=1000,\n",
    "                    activation='relu',\n",
    "                    solver='adam',\n",
    "                    hidden_layer_sizes=100)\n",
    "\n",
    "clf.fit(X_train, y_train)"
   ]
  },
  {
   "cell_type": "code",
   "execution_count": 6,
   "metadata": {},
   "outputs": [
    {
     "name": "stdout",
     "output_type": "stream",
     "text": [
      "accuracy 0.996\n",
      "precision 0.984375\n",
      "recall 0.984375\n",
      "f1 0.984375\n"
     ]
    }
   ],
   "source": [
    "y_pred = clf.predict(X_test)\n",
    "\n",
    "print(\"accuracy\", accuracy_score(y_test, y_pred))\n",
    "print(\"precision\", precision_score(y_test, y_pred))\n",
    "print(\"recall\", recall_score(y_test, y_pred))\n",
    "print(\"f1\", f1_score(y_test, y_pred))\n"
   ]
  },
  {
   "cell_type": "code",
   "execution_count": 7,
   "metadata": {},
   "outputs": [
    {
     "name": "stdout",
     "output_type": "stream",
     "text": [
      "Epoch 1/100\n",
      "1500/1500 [==============================] - 1s 475us/step - loss: 0.5405 - accuracy: 0.8540\n",
      "Epoch 2/100\n",
      "1500/1500 [==============================] - 0s 165us/step - loss: 0.4493 - accuracy: 0.8540\n",
      "Epoch 3/100\n",
      "1500/1500 [==============================] - 0s 166us/step - loss: 0.3815 - accuracy: 0.8540\n",
      "Epoch 4/100\n",
      "1500/1500 [==============================] - 0s 186us/step - loss: 0.3339 - accuracy: 0.8540\n",
      "Epoch 5/100\n",
      "1500/1500 [==============================] - 0s 212us/step - loss: 0.3037 - accuracy: 0.8540\n",
      "Epoch 6/100\n",
      "1500/1500 [==============================] - 0s 197us/step - loss: 0.2827 - accuracy: 0.8540\n",
      "Epoch 7/100\n",
      "1500/1500 [==============================] - 0s 166us/step - loss: 0.2670 - accuracy: 0.8540\n",
      "Epoch 8/100\n",
      "1500/1500 [==============================] - 0s 170us/step - loss: 0.2549 - accuracy: 0.8540\n",
      "Epoch 9/100\n",
      "1500/1500 [==============================] - 0s 166us/step - loss: 0.2445 - accuracy: 0.8540\n",
      "Epoch 10/100\n",
      "1500/1500 [==============================] - 0s 173us/step - loss: 0.2356 - accuracy: 0.8540\n",
      "Epoch 11/100\n",
      "1500/1500 [==============================] - 0s 165us/step - loss: 0.2269 - accuracy: 0.8540\n",
      "Epoch 12/100\n",
      "1500/1500 [==============================] - 0s 178us/step - loss: 0.2193 - accuracy: 0.8540\n",
      "Epoch 13/100\n",
      "1500/1500 [==============================] - 0s 170us/step - loss: 0.2113 - accuracy: 0.8540\n",
      "Epoch 14/100\n",
      "1500/1500 [==============================] - 0s 179us/step - loss: 0.2045 - accuracy: 0.8540\n",
      "Epoch 15/100\n",
      "1500/1500 [==============================] - 0s 188us/step - loss: 0.1980 - accuracy: 0.8540\n",
      "Epoch 16/100\n",
      "1500/1500 [==============================] - 0s 175us/step - loss: 0.1922 - accuracy: 0.8540\n",
      "Epoch 17/100\n",
      "1500/1500 [==============================] - 0s 197us/step - loss: 0.1872 - accuracy: 0.8587\n",
      "Epoch 18/100\n",
      "1500/1500 [==============================] - 0s 189us/step - loss: 0.1815 - accuracy: 0.9400\n",
      "Epoch 19/100\n",
      "1500/1500 [==============================] - 0s 186us/step - loss: 0.1766 - accuracy: 0.9453\n",
      "Epoch 20/100\n",
      "1500/1500 [==============================] - 0s 180us/step - loss: 0.1720 - accuracy: 0.9440\n",
      "Epoch 21/100\n",
      "1500/1500 [==============================] - 0s 182us/step - loss: 0.1674 - accuracy: 0.9460\n",
      "Epoch 22/100\n",
      "1500/1500 [==============================] - 0s 176us/step - loss: 0.1636 - accuracy: 0.9440\n",
      "Epoch 23/100\n",
      "1500/1500 [==============================] - 0s 180us/step - loss: 0.1598 - accuracy: 0.9433\n",
      "Epoch 24/100\n",
      "1500/1500 [==============================] - 0s 184us/step - loss: 0.1573 - accuracy: 0.9467\n",
      "Epoch 25/100\n",
      "1500/1500 [==============================] - 0s 183us/step - loss: 0.1540 - accuracy: 0.9447\n",
      "Epoch 26/100\n",
      "1500/1500 [==============================] - 0s 171us/step - loss: 0.1515 - accuracy: 0.9447\n",
      "Epoch 27/100\n",
      "1500/1500 [==============================] - 0s 182us/step - loss: 0.1499 - accuracy: 0.9413\n",
      "Epoch 28/100\n",
      "1500/1500 [==============================] - 0s 170us/step - loss: 0.1473 - accuracy: 0.9433\n",
      "Epoch 29/100\n",
      "1500/1500 [==============================] - 0s 179us/step - loss: 0.1454 - accuracy: 0.9447\n",
      "Epoch 30/100\n",
      "1500/1500 [==============================] - 0s 200us/step - loss: 0.1436 - accuracy: 0.9453\n",
      "Epoch 31/100\n",
      "1500/1500 [==============================] - 0s 203us/step - loss: 0.1422 - accuracy: 0.9447\n",
      "Epoch 32/100\n",
      "1500/1500 [==============================] - 0s 193us/step - loss: 0.1410 - accuracy: 0.9433\n",
      "Epoch 33/100\n",
      "1500/1500 [==============================] - 0s 190us/step - loss: 0.1395 - accuracy: 0.9453\n",
      "Epoch 34/100\n",
      "1500/1500 [==============================] - 0s 180us/step - loss: 0.1383 - accuracy: 0.9453\n",
      "Epoch 35/100\n",
      "1500/1500 [==============================] - 0s 187us/step - loss: 0.1375 - accuracy: 0.9467\n",
      "Epoch 36/100\n",
      "1500/1500 [==============================] - 0s 181us/step - loss: 0.1361 - accuracy: 0.9447\n",
      "Epoch 37/100\n",
      "1500/1500 [==============================] - 0s 175us/step - loss: 0.1352 - accuracy: 0.9447\n",
      "Epoch 38/100\n",
      "1500/1500 [==============================] - 0s 181us/step - loss: 0.1344 - accuracy: 0.9440\n",
      "Epoch 39/100\n",
      "1500/1500 [==============================] - 0s 176us/step - loss: 0.1337 - accuracy: 0.9440\n",
      "Epoch 40/100\n",
      "1500/1500 [==============================] - 0s 170us/step - loss: 0.1326 - accuracy: 0.9447\n",
      "Epoch 41/100\n",
      "1500/1500 [==============================] - 0s 178us/step - loss: 0.1316 - accuracy: 0.9467\n",
      "Epoch 42/100\n",
      "1500/1500 [==============================] - 0s 173us/step - loss: 0.1314 - accuracy: 0.9460\n",
      "Epoch 43/100\n",
      "1500/1500 [==============================] - 0s 190us/step - loss: 0.1314 - accuracy: 0.9440\n",
      "Epoch 44/100\n",
      "1500/1500 [==============================] - 0s 190us/step - loss: 0.1299 - accuracy: 0.9460\n",
      "Epoch 45/100\n",
      "1500/1500 [==============================] - 0s 189us/step - loss: 0.1292 - accuracy: 0.9447\n",
      "Epoch 46/100\n",
      "1500/1500 [==============================] - 0s 167us/step - loss: 0.1291 - accuracy: 0.9473\n",
      "Epoch 47/100\n",
      "1500/1500 [==============================] - 0s 183us/step - loss: 0.1284 - accuracy: 0.9473\n",
      "Epoch 48/100\n",
      "1500/1500 [==============================] - 0s 170us/step - loss: 0.1274 - accuracy: 0.9480\n",
      "Epoch 49/100\n",
      "1500/1500 [==============================] - 0s 180us/step - loss: 0.1275 - accuracy: 0.9473\n",
      "Epoch 50/100\n",
      "1500/1500 [==============================] - 0s 178us/step - loss: 0.1263 - accuracy: 0.9467\n",
      "Epoch 51/100\n",
      "1500/1500 [==============================] - 0s 172us/step - loss: 0.1272 - accuracy: 0.9460\n",
      "Epoch 52/100\n",
      "1500/1500 [==============================] - 0s 204us/step - loss: 0.1254 - accuracy: 0.9453\n",
      "Epoch 53/100\n",
      "1500/1500 [==============================] - 0s 171us/step - loss: 0.1257 - accuracy: 0.9460\n",
      "Epoch 54/100\n",
      "1500/1500 [==============================] - 0s 172us/step - loss: 0.1256 - accuracy: 0.9453\n",
      "Epoch 55/100\n",
      "1500/1500 [==============================] - 0s 165us/step - loss: 0.1247 - accuracy: 0.9453\n",
      "Epoch 56/100\n",
      "1500/1500 [==============================] - 0s 177us/step - loss: 0.1247 - accuracy: 0.9467\n",
      "Epoch 57/100\n",
      "1500/1500 [==============================] - 0s 193us/step - loss: 0.1244 - accuracy: 0.9447\n",
      "Epoch 58/100\n",
      "1500/1500 [==============================] - 0s 197us/step - loss: 0.1239 - accuracy: 0.9460\n",
      "Epoch 59/100\n",
      "1500/1500 [==============================] - 0s 164us/step - loss: 0.1237 - accuracy: 0.9460\n",
      "Epoch 60/100\n",
      "1500/1500 [==============================] - 0s 172us/step - loss: 0.1233 - accuracy: 0.9447\n",
      "Epoch 61/100\n",
      "1500/1500 [==============================] - 0s 169us/step - loss: 0.1227 - accuracy: 0.9473\n",
      "Epoch 62/100\n",
      "1500/1500 [==============================] - 0s 173us/step - loss: 0.1227 - accuracy: 0.9460\n",
      "Epoch 63/100\n",
      "1500/1500 [==============================] - 0s 168us/step - loss: 0.1220 - accuracy: 0.9480\n",
      "Epoch 64/100\n",
      "1500/1500 [==============================] - 0s 186us/step - loss: 0.1217 - accuracy: 0.9467\n",
      "Epoch 65/100\n",
      "1500/1500 [==============================] - 0s 189us/step - loss: 0.1218 - accuracy: 0.9460\n",
      "Epoch 66/100\n",
      "1500/1500 [==============================] - 0s 161us/step - loss: 0.1212 - accuracy: 0.9473\n",
      "Epoch 67/100\n",
      "1500/1500 [==============================] - 0s 184us/step - loss: 0.1208 - accuracy: 0.9460\n",
      "Epoch 68/100\n",
      "1500/1500 [==============================] - 0s 165us/step - loss: 0.1207 - accuracy: 0.9480\n",
      "Epoch 69/100\n",
      "1500/1500 [==============================] - 0s 177us/step - loss: 0.1204 - accuracy: 0.9473\n",
      "Epoch 70/100\n",
      "1500/1500 [==============================] - 0s 176us/step - loss: 0.1205 - accuracy: 0.9480\n",
      "Epoch 71/100\n",
      "1500/1500 [==============================] - 0s 182us/step - loss: 0.1194 - accuracy: 0.9460\n",
      "Epoch 72/100\n",
      "1500/1500 [==============================] - 0s 182us/step - loss: 0.1193 - accuracy: 0.9480\n",
      "Epoch 73/100\n",
      "1500/1500 [==============================] - 0s 170us/step - loss: 0.1190 - accuracy: 0.9453\n",
      "Epoch 74/100\n",
      "1500/1500 [==============================] - 0s 166us/step - loss: 0.1190 - accuracy: 0.9460\n",
      "Epoch 75/100\n",
      "1500/1500 [==============================] - 0s 180us/step - loss: 0.1187 - accuracy: 0.9480\n",
      "Epoch 76/100\n",
      "1500/1500 [==============================] - 0s 168us/step - loss: 0.1189 - accuracy: 0.9473\n",
      "Epoch 77/100\n",
      "1500/1500 [==============================] - 0s 177us/step - loss: 0.1183 - accuracy: 0.9473\n",
      "Epoch 78/100\n"
     ]
    },
    {
     "name": "stdout",
     "output_type": "stream",
     "text": [
      "1500/1500 [==============================] - 0s 162us/step - loss: 0.1182 - accuracy: 0.9473\n",
      "Epoch 79/100\n",
      "1500/1500 [==============================] - 0s 164us/step - loss: 0.1180 - accuracy: 0.9487\n",
      "Epoch 80/100\n",
      "1500/1500 [==============================] - 0s 165us/step - loss: 0.1175 - accuracy: 0.9467\n",
      "Epoch 81/100\n",
      "1500/1500 [==============================] - 0s 165us/step - loss: 0.1179 - accuracy: 0.9473\n",
      "Epoch 82/100\n",
      "1500/1500 [==============================] - 0s 160us/step - loss: 0.1176 - accuracy: 0.9473\n",
      "Epoch 83/100\n",
      "1500/1500 [==============================] - 0s 164us/step - loss: 0.1175 - accuracy: 0.9460\n",
      "Epoch 84/100\n",
      "1500/1500 [==============================] - 0s 172us/step - loss: 0.1172 - accuracy: 0.9487\n",
      "Epoch 85/100\n",
      "1500/1500 [==============================] - 0s 179us/step - loss: 0.1165 - accuracy: 0.9480\n",
      "Epoch 86/100\n",
      "1500/1500 [==============================] - 0s 163us/step - loss: 0.1166 - accuracy: 0.9493\n",
      "Epoch 87/100\n",
      "1500/1500 [==============================] - 0s 170us/step - loss: 0.1164 - accuracy: 0.9487\n",
      "Epoch 88/100\n",
      "1500/1500 [==============================] - 0s 164us/step - loss: 0.1164 - accuracy: 0.9473\n",
      "Epoch 89/100\n",
      "1500/1500 [==============================] - 0s 163us/step - loss: 0.1161 - accuracy: 0.9480\n",
      "Epoch 90/100\n",
      "1500/1500 [==============================] - 0s 162us/step - loss: 0.1152 - accuracy: 0.9520\n",
      "Epoch 91/100\n",
      "1500/1500 [==============================] - 0s 198us/step - loss: 0.1166 - accuracy: 0.9480\n",
      "Epoch 92/100\n",
      "1500/1500 [==============================] - 0s 165us/step - loss: 0.1156 - accuracy: 0.9493\n",
      "Epoch 93/100\n",
      "1500/1500 [==============================] - 0s 218us/step - loss: 0.1155 - accuracy: 0.9487\n",
      "Epoch 94/100\n",
      "1500/1500 [==============================] - 0s 170us/step - loss: 0.1157 - accuracy: 0.9480\n",
      "Epoch 95/100\n",
      "1500/1500 [==============================] - 0s 166us/step - loss: 0.1154 - accuracy: 0.9500\n",
      "Epoch 96/100\n",
      "1500/1500 [==============================] - 0s 192us/step - loss: 0.1151 - accuracy: 0.9507\n",
      "Epoch 97/100\n",
      "1500/1500 [==============================] - 0s 161us/step - loss: 0.1150 - accuracy: 0.9487\n",
      "Epoch 98/100\n",
      "1500/1500 [==============================] - 0s 181us/step - loss: 0.1145 - accuracy: 0.9500\n",
      "Epoch 99/100\n",
      "1500/1500 [==============================] - 0s 204us/step - loss: 0.1142 - accuracy: 0.9500\n",
      "Epoch 100/100\n",
      "1500/1500 [==============================] - 0s 168us/step - loss: 0.1146 - accuracy: 0.9507\n"
     ]
    },
    {
     "data": {
      "text/plain": [
       "<keras.callbacks.callbacks.History at 0x132aa2b90>"
      ]
     },
     "execution_count": 7,
     "metadata": {},
     "output_type": "execute_result"
    }
   ],
   "source": [
    "keras_clf = Sequential()\n",
    "\n",
    "# Hidden layers\n",
    "keras_clf.add(Dense(units = 2, activation = 'relu', input_dim = 3))\n",
    "keras_clf.add(Dense(units = 2, activation = 'relu'))\n",
    "\n",
    "# Sigmoide para problemas de classificação binária\n",
    "# E softmax para problemas de multiclasse\n",
    "keras_clf.add(Dense(units = 1, activation = 'sigmoid'))\n",
    "\n",
    "keras_clf.compile(optimizer = 'adam', loss = 'binary_crossentropy', metrics = ['accuracy'])\n",
    "keras_clf.fit(X_train, y_train, batch_size = 10, nb_epoch = 100)"
   ]
  },
  {
   "cell_type": "code",
   "execution_count": 8,
   "metadata": {},
   "outputs": [
    {
     "name": "stdout",
     "output_type": "stream",
     "text": [
      "accuracy 0.946\n",
      "precision 0.7846153846153846\n",
      "recall 0.796875\n",
      "f1 0.7906976744186046\n"
     ]
    }
   ],
   "source": [
    "y_pred_keras = keras_clf.predict(X_test)\n",
    "y_pred_keras = (y_pred_keras > 0.5)\n",
    "\n",
    "print(\"accuracy\", accuracy_score(y_test, y_pred_keras))\n",
    "print(\"precision\", precision_score(y_test, y_pred_keras))\n",
    "print(\"recall\", recall_score(y_test, y_pred_keras))\n",
    "print(\"f1\", f1_score(y_test, y_pred_keras))"
   ]
  },
  {
   "cell_type": "code",
   "execution_count": 9,
   "metadata": {},
   "outputs": [
    {
     "data": {
      "text/plain": [
       "<matplotlib.axes._subplots.AxesSubplot at 0x132c6ac50>"
      ]
     },
     "execution_count": 9,
     "metadata": {},
     "output_type": "execute_result"
    },
    {
     "data": {
      "image/png": "[encoded data removed]",
      "text/plain": [
       "<Figure size 1080x288 with 4 Axes>"
      ]
     },
     "metadata": {},
     "output_type": "display_data"
    }
   ],
   "source": [
    "confMatrix = plotModule.ConfusionMatrix()\n",
    "fig = plt.figure(figsize=(15, 4), facecolor='w')\n",
    "\n",
    "confMatrix.plot(cm=confusion_matrix(y_test, y_pred),\n",
    "                classes=classes['default'].unique(),\n",
    "                title='Confusion Matrix SciKit',\n",
    "                fig=fig,\n",
    "                subplot_index=1)\n",
    "\n",
    "confMatrix.plot(cm=confusion_matrix(y_test, y_pred_keras),\n",
    "                classes=classes['default'].unique(),\n",
    "                title='Confusion Matrix Keras',\n",
    "                fig=fig,\n",
    "                subplot_index=2)"
   ]
  },
  {
   "cell_type": "code",
   "execution_count": null,
   "metadata": {},
   "outputs": [],
   "source": []
  },
  {
   "cell_type": "code",
   "execution_count": null,
   "metadata": {},
   "outputs": [],
   "source": []
  },
  {
   "cell_type": "code",
   "execution_count": null,
   "metadata": {},
   "outputs": [],
   "source": []
  }
 ],
 "metadata": {
  "kernelspec": {
   "display_name": "Python 3",
   "language": "python",
   "name": "python3"
  },
  "language_info": {
   "codemirror_mode": {
    "name": "ipython",
    "version": 3
   },
   "file_extension": ".py",
   "mimetype": "text/x-python",
   "name": "python",
   "nbconvert_exporter": "python",
   "pygments_lexer": "ipython3",
   "version": "3.7.7"
  }
 },
 "nbformat": 4,
 "nbformat_minor": 4
}
