{
 "cells": [
  {
   "cell_type": "code",
   "execution_count": 54,
   "metadata": {},
   "outputs": [
    {
     "name": "stderr",
     "output_type": "stream",
     "text": [
      "Using TensorFlow backend.\n"
     ]
    }
   ],
   "source": [
    "import pandas as pd\n",
    "from matplotlib import pyplot as plt\n",
    "\n",
    "from sklearn.model_selection import train_test_split\n",
    "from sklearn.neural_network import MLPClassifier\n",
    "\n",
    "from sklearn.metrics import accuracy_score, recall_score, f1_score\n",
    "from sklearn.metrics import precision_score, confusion_matrix\n",
    "\n",
    "import warnings\n",
    "warnings.filterwarnings(\"ignore\")\n",
    "\n",
    "import keras\n",
    "from keras.models import Sequential\n",
    "from keras.layers import Dense\n",
    "\n",
    "from lib import plotModule"
   ]
  },
  {
   "cell_type": "code",
   "execution_count": 61,
   "metadata": {},
   "outputs": [
    {
     "data": {
      "text/html": [
       "<div>\n",
       "<style scoped>\n",
       "    .dataframe tbody tr th:only-of-type {\n",
       "        vertical-align: middle;\n",
       "    }\n",
       "\n",
       "    .dataframe tbody tr th {\n",
       "        vertical-align: top;\n",
       "    }\n",
       "\n",
       "    .dataframe thead th {\n",
       "        text-align: right;\n",
       "    }\n",
       "</style>\n",
       "<table border=\"1\" class=\"dataframe\">\n",
       "  <thead>\n",
       "    <tr style=\"text-align: right;\">\n",
       "      <th></th>\n",
       "      <th>default</th>\n",
       "    </tr>\n",
       "  </thead>\n",
       "  <tbody>\n",
       "    <tr>\n",
       "      <th>0</th>\n",
       "      <td>0</td>\n",
       "    </tr>\n",
       "    <tr>\n",
       "      <th>1</th>\n",
       "      <td>0</td>\n",
       "    </tr>\n",
       "    <tr>\n",
       "      <th>2</th>\n",
       "      <td>0</td>\n",
       "    </tr>\n",
       "    <tr>\n",
       "      <th>3</th>\n",
       "      <td>0</td>\n",
       "    </tr>\n",
       "    <tr>\n",
       "      <th>4</th>\n",
       "      <td>1</td>\n",
       "    </tr>\n",
       "  </tbody>\n",
       "</table>\n",
       "</div>"
      ],
      "text/plain": [
       "   default\n",
       "0        0\n",
       "1        0\n",
       "2        0\n",
       "3        0\n",
       "4        1"
      ]
     },
     "execution_count": 61,
     "metadata": {},
     "output_type": "execute_result"
    }
   ],
   "source": [
    "classes = pd.read_csv('data/classes.csv')\n",
    "classes.head()"
   ]
  },
  {
   "cell_type": "code",
   "execution_count": 62,
   "metadata": {},
   "outputs": [
    {
     "data": {
      "text/html": [
       "<div>\n",
       "<style scoped>\n",
       "    .dataframe tbody tr th:only-of-type {\n",
       "        vertical-align: middle;\n",
       "    }\n",
       "\n",
       "    .dataframe tbody tr th {\n",
       "        vertical-align: top;\n",
       "    }\n",
       "\n",
       "    .dataframe thead th {\n",
       "        text-align: right;\n",
       "    }\n",
       "</style>\n",
       "<table border=\"1\" class=\"dataframe\">\n",
       "  <thead>\n",
       "    <tr style=\"text-align: right;\">\n",
       "      <th></th>\n",
       "      <th>clientid</th>\n",
       "      <th>income</th>\n",
       "      <th>age</th>\n",
       "      <th>loan</th>\n",
       "    </tr>\n",
       "  </thead>\n",
       "  <tbody>\n",
       "    <tr>\n",
       "      <th>0</th>\n",
       "      <td>-1.731185</td>\n",
       "      <td>1.453934</td>\n",
       "      <td>1.365380</td>\n",
       "      <td>1.202819</td>\n",
       "    </tr>\n",
       "    <tr>\n",
       "      <th>1</th>\n",
       "      <td>-1.729453</td>\n",
       "      <td>-0.762176</td>\n",
       "      <td>0.542659</td>\n",
       "      <td>0.696427</td>\n",
       "    </tr>\n",
       "    <tr>\n",
       "      <th>2</th>\n",
       "      <td>-1.727721</td>\n",
       "      <td>0.836821</td>\n",
       "      <td>1.674171</td>\n",
       "      <td>1.174711</td>\n",
       "    </tr>\n",
       "    <tr>\n",
       "      <th>3</th>\n",
       "      <td>-1.725989</td>\n",
       "      <td>-0.183070</td>\n",
       "      <td>0.364136</td>\n",
       "      <td>0.544980</td>\n",
       "    </tr>\n",
       "    <tr>\n",
       "      <th>4</th>\n",
       "      <td>-1.724257</td>\n",
       "      <td>1.509563</td>\n",
       "      <td>-1.686475</td>\n",
       "      <td>1.420765</td>\n",
       "    </tr>\n",
       "  </tbody>\n",
       "</table>\n",
       "</div>"
      ],
      "text/plain": [
       "   clientid    income       age      loan\n",
       "0 -1.731185  1.453934  1.365380  1.202819\n",
       "1 -1.729453 -0.762176  0.542659  0.696427\n",
       "2 -1.727721  0.836821  1.674171  1.174711\n",
       "3 -1.725989 -0.183070  0.364136  0.544980\n",
       "4 -1.724257  1.509563 -1.686475  1.420765"
      ]
     },
     "execution_count": 62,
     "metadata": {},
     "output_type": "execute_result"
    }
   ],
   "source": [
    "previsores = pd.read_csv('data/previsores.csv')\n",
    "previsores.head()"
   ]
  },
  {
   "cell_type": "code",
   "execution_count": 13,
   "metadata": {},
   "outputs": [],
   "source": [
    "previsores.drop('clientid', axis=1, inplace=True)\n",
    "X_train, X_test, y_train, y_test = train_test_split(previsores, classes, test_size=0.25, random_state=0)"
   ]
  },
  {
   "cell_type": "code",
   "execution_count": 51,
   "metadata": {},
   "outputs": [
    {
     "data": {
      "text/plain": [
       "MLPClassifier(activation='relu', alpha=0.0001, batch_size='auto', beta_1=0.9,\n",
       "              beta_2=0.999, early_stopping=False, epsilon=1e-08,\n",
       "              hidden_layer_sizes=100, learning_rate='constant',\n",
       "              learning_rate_init=0.001, max_fun=15000, max_iter=1000,\n",
       "              momentum=0.9, n_iter_no_change=10, nesterovs_momentum=True,\n",
       "              power_t=0.5, random_state=None, shuffle=True, solver='adam',\n",
       "              tol=0.0001, validation_fraction=0.1, verbose=False,\n",
       "              warm_start=False)"
      ]
     },
     "execution_count": 51,
     "metadata": {},
     "output_type": "execute_result"
    }
   ],
   "source": [
    "clf = MLPClassifier(max_iter=1000,\n",
    "                    activation='relu',\n",
    "                    solver='adam',\n",
    "                    hidden_layer_sizes=100)\n",
    "\n",
    "clf.fit(X_train, y_train)"
   ]
  },
  {
   "cell_type": "code",
   "execution_count": 52,
   "metadata": {},
   "outputs": [
    {
     "name": "stdout",
     "output_type": "stream",
     "text": [
      "accuracy 0.996\n",
      "precision 1.0\n",
      "recall 0.96875\n",
      "f1 0.9841269841269841\n"
     ]
    }
   ],
   "source": [
    "y_pred = clf.predict(X_test)\n",
    "\n",
    "print(\"accuracy\", accuracy_score(y_test, y_pred))\n",
    "print(\"precision\", precision_score(y_test, y_pred))\n",
    "print(\"recall\", recall_score(y_test, y_pred))\n",
    "print(\"f1\", f1_score(y_test, y_pred))\n"
   ]
  },
  {
   "cell_type": "code",
   "execution_count": 63,
   "metadata": {},
   "outputs": [
    {
     "name": "stdout",
     "output_type": "stream",
     "text": [
      "Epoch 1/100\n",
      "1500/1500 [==============================] - 0s 309us/step - loss: 0.5469 - accuracy: 0.8540\n",
      "Epoch 2/100\n",
      "1500/1500 [==============================] - 0s 248us/step - loss: 0.4514 - accuracy: 0.8540\n",
      "Epoch 3/100\n",
      "1500/1500 [==============================] - 0s 211us/step - loss: 0.3773 - accuracy: 0.8540\n",
      "Epoch 4/100\n",
      "1500/1500 [==============================] - 0s 167us/step - loss: 0.3104 - accuracy: 0.8540\n",
      "Epoch 5/100\n",
      "1500/1500 [==============================] - 0s 166us/step - loss: 0.2703 - accuracy: 0.8540\n",
      "Epoch 6/100\n",
      "1500/1500 [==============================] - 0s 169us/step - loss: 0.2437 - accuracy: 0.8540\n",
      "Epoch 7/100\n",
      "1500/1500 [==============================] - 0s 166us/step - loss: 0.2198 - accuracy: 0.8540\n",
      "Epoch 8/100\n",
      "1500/1500 [==============================] - 0s 171us/step - loss: 0.1961 - accuracy: 0.8540\n",
      "Epoch 9/100\n",
      "1500/1500 [==============================] - 0s 163us/step - loss: 0.1747 - accuracy: 0.8540\n",
      "Epoch 10/100\n",
      "1500/1500 [==============================] - 0s 173us/step - loss: 0.1574 - accuracy: 0.8540\n",
      "Epoch 11/100\n",
      "1500/1500 [==============================] - 0s 164us/step - loss: 0.1461 - accuracy: 0.9313\n",
      "Epoch 12/100\n",
      "1500/1500 [==============================] - 0s 173us/step - loss: 0.1382 - accuracy: 0.9567\n",
      "Epoch 13/100\n",
      "1500/1500 [==============================] - 0s 165us/step - loss: 0.1311 - accuracy: 0.9633\n",
      "Epoch 14/100\n",
      "1500/1500 [==============================] - 0s 180us/step - loss: 0.1243 - accuracy: 0.9687\n",
      "Epoch 15/100\n",
      "1500/1500 [==============================] - 0s 180us/step - loss: 0.1181 - accuracy: 0.9693\n",
      "Epoch 16/100\n",
      "1500/1500 [==============================] - 0s 189us/step - loss: 0.1123 - accuracy: 0.9707\n",
      "Epoch 17/100\n",
      "1500/1500 [==============================] - 0s 163us/step - loss: 0.1067 - accuracy: 0.9740\n",
      "Epoch 18/100\n",
      "1500/1500 [==============================] - 0s 162us/step - loss: 0.1016 - accuracy: 0.9780\n",
      "Epoch 19/100\n",
      "1500/1500 [==============================] - 0s 167us/step - loss: 0.0968 - accuracy: 0.9780\n",
      "Epoch 20/100\n",
      "1500/1500 [==============================] - 0s 184us/step - loss: 0.0923 - accuracy: 0.9847\n",
      "Epoch 21/100\n",
      "1500/1500 [==============================] - 0s 192us/step - loss: 0.0879 - accuracy: 0.9833\n",
      "Epoch 22/100\n",
      "1500/1500 [==============================] - 0s 203us/step - loss: 0.0838 - accuracy: 0.9880\n",
      "Epoch 23/100\n",
      "1500/1500 [==============================] - 0s 274us/step - loss: 0.0800 - accuracy: 0.9860\n",
      "Epoch 24/100\n",
      "1500/1500 [==============================] - 2s 1ms/step - loss: 0.0765 - accuracy: 0.9887\n",
      "Epoch 25/100\n",
      "1500/1500 [==============================] - 1s 363us/step - loss: 0.0730 - accuracy: 0.9887\n",
      "Epoch 26/100\n",
      "1500/1500 [==============================] - 0s 226us/step - loss: 0.0699 - accuracy: 0.99070s - loss: 0.0698 - accuracy: 0.99\n",
      "Epoch 27/100\n",
      "1500/1500 [==============================] - 0s 274us/step - loss: 0.0666 - accuracy: 0.99200s - loss: 0.0675 - accuracy: 0.\n",
      "Epoch 28/100\n",
      "1500/1500 [==============================] - 0s 209us/step - loss: 0.0637 - accuracy: 0.9893\n",
      "Epoch 29/100\n",
      "1500/1500 [==============================] - 0s 312us/step - loss: 0.0611 - accuracy: 0.9940\n",
      "Epoch 30/100\n",
      "1500/1500 [==============================] - 1s 651us/step - loss: 0.0585 - accuracy: 0.9940\n",
      "Epoch 31/100\n",
      "1500/1500 [==============================] - ETA: 0s - loss: 0.0533 - accuracy: 0.99 - 0s 308us/step - loss: 0.0561 - accuracy: 0.9907\n",
      "Epoch 32/100\n",
      "1500/1500 [==============================] - 0s 221us/step - loss: 0.0537 - accuracy: 0.9960\n",
      "Epoch 33/100\n",
      "1500/1500 [==============================] - 0s 182us/step - loss: 0.0516 - accuracy: 0.9953\n",
      "Epoch 34/100\n",
      "1500/1500 [==============================] - 0s 303us/step - loss: 0.0496 - accuracy: 0.9953\n",
      "Epoch 35/100\n",
      "1500/1500 [==============================] - 1s 550us/step - loss: 0.0476 - accuracy: 0.9960\n",
      "Epoch 36/100\n",
      "1500/1500 [==============================] - 0s 310us/step - loss: 0.0457 - accuracy: 0.9960\n",
      "Epoch 37/100\n",
      "1500/1500 [==============================] - 1s 755us/step - loss: 0.0440 - accuracy: 0.9967\n",
      "Epoch 38/100\n",
      "1500/1500 [==============================] - 1s 442us/step - loss: 0.0423 - accuracy: 0.9967\n",
      "Epoch 39/100\n",
      "1500/1500 [==============================] - 1s 645us/step - loss: 0.0408 - accuracy: 0.9947\n",
      "Epoch 40/100\n",
      "1500/1500 [==============================] - 1s 547us/step - loss: 0.0394 - accuracy: 0.9960\n",
      "Epoch 41/100\n",
      "1500/1500 [==============================] - 1s 445us/step - loss: 0.0378 - accuracy: 0.9967\n",
      "Epoch 42/100\n",
      "1500/1500 [==============================] - 1s 414us/step - loss: 0.0367 - accuracy: 0.9960\n",
      "Epoch 43/100\n",
      "1500/1500 [==============================] - 1s 467us/step - loss: 0.0355 - accuracy: 0.9967\n",
      "Epoch 44/100\n",
      "1500/1500 [==============================] - 1s 372us/step - loss: 0.0342 - accuracy: 0.9973\n",
      "Epoch 45/100\n",
      "1500/1500 [==============================] - 0s 231us/step - loss: 0.0332 - accuracy: 0.9973\n",
      "Epoch 46/100\n",
      "1500/1500 [==============================] - 0s 242us/step - loss: 0.0319 - accuracy: 0.9980\n",
      "Epoch 47/100\n",
      "1500/1500 [==============================] - 0s 192us/step - loss: 0.0311 - accuracy: 0.9960\n",
      "Epoch 48/100\n",
      "1500/1500 [==============================] - 0s 249us/step - loss: 0.0300 - accuracy: 0.9973\n",
      "Epoch 49/100\n",
      "1500/1500 [==============================] - 0s 225us/step - loss: 0.0292 - accuracy: 0.9987\n",
      "Epoch 50/100\n",
      "1500/1500 [==============================] - 0s 222us/step - loss: 0.0283 - accuracy: 0.9980\n",
      "Epoch 51/100\n",
      "1500/1500 [==============================] - 0s 210us/step - loss: 0.0273 - accuracy: 0.9980\n",
      "Epoch 52/100\n",
      "1500/1500 [==============================] - 1s 335us/step - loss: 0.0266 - accuracy: 0.9980\n",
      "Epoch 53/100\n",
      "1500/1500 [==============================] - 0s 197us/step - loss: 0.0258 - accuracy: 0.9987\n",
      "Epoch 54/100\n",
      "1500/1500 [==============================] - 0s 259us/step - loss: 0.0250 - accuracy: 0.9973\n",
      "Epoch 55/100\n",
      "1500/1500 [==============================] - 0s 207us/step - loss: 0.0242 - accuracy: 0.9967\n",
      "Epoch 56/100\n",
      "1500/1500 [==============================] - 0s 276us/step - loss: 0.0239 - accuracy: 0.9980\n",
      "Epoch 57/100\n",
      "1500/1500 [==============================] - 0s 182us/step - loss: 0.0231 - accuracy: 0.9980\n",
      "Epoch 58/100\n",
      "1500/1500 [==============================] - 0s 177us/step - loss: 0.0226 - accuracy: 0.9987\n",
      "Epoch 59/100\n",
      "1500/1500 [==============================] - 0s 165us/step - loss: 0.0219 - accuracy: 0.9980\n",
      "Epoch 60/100\n",
      "1500/1500 [==============================] - 0s 175us/step - loss: 0.0214 - accuracy: 0.9987\n",
      "Epoch 61/100\n",
      "1500/1500 [==============================] - 0s 169us/step - loss: 0.0209 - accuracy: 0.9993\n",
      "Epoch 62/100\n",
      "1500/1500 [==============================] - 0s 211us/step - loss: 0.0203 - accuracy: 1.0000\n",
      "Epoch 63/100\n",
      "1500/1500 [==============================] - 0s 170us/step - loss: 0.0197 - accuracy: 0.9993\n",
      "Epoch 64/100\n",
      "1500/1500 [==============================] - 0s 175us/step - loss: 0.0193 - accuracy: 0.9980\n",
      "Epoch 65/100\n",
      "1500/1500 [==============================] - 0s 167us/step - loss: 0.0187 - accuracy: 1.0000\n",
      "Epoch 66/100\n",
      "1500/1500 [==============================] - 0s 173us/step - loss: 0.0185 - accuracy: 0.9987\n",
      "Epoch 67/100\n",
      "1500/1500 [==============================] - 0s 180us/step - loss: 0.0181 - accuracy: 0.9987\n",
      "Epoch 68/100\n",
      "1500/1500 [==============================] - 0s 193us/step - loss: 0.0175 - accuracy: 0.9993\n",
      "Epoch 69/100\n",
      "1500/1500 [==============================] - 0s 187us/step - loss: 0.0171 - accuracy: 0.9993\n",
      "Epoch 70/100\n",
      "1500/1500 [==============================] - 0s 184us/step - loss: 0.0170 - accuracy: 1.0000\n",
      "Epoch 71/100\n",
      "1500/1500 [==============================] - 0s 183us/step - loss: 0.0163 - accuracy: 1.0000\n",
      "Epoch 72/100\n",
      "1500/1500 [==============================] - 0s 168us/step - loss: 0.0160 - accuracy: 0.9993\n",
      "Epoch 73/100\n",
      "1500/1500 [==============================] - 0s 188us/step - loss: 0.0156 - accuracy: 0.9993\n",
      "Epoch 74/100\n",
      "1500/1500 [==============================] - 0s 169us/step - loss: 0.0153 - accuracy: 0.9993\n",
      "Epoch 75/100\n",
      "1500/1500 [==============================] - 0s 173us/step - loss: 0.0147 - accuracy: 0.9993\n",
      "Epoch 76/100\n",
      "1500/1500 [==============================] - 0s 169us/step - loss: 0.0150 - accuracy: 1.0000\n",
      "Epoch 77/100\n"
     ]
    },
    {
     "name": "stdout",
     "output_type": "stream",
     "text": [
      "1500/1500 [==============================] - 0s 168us/step - loss: 0.0144 - accuracy: 0.9993\n",
      "Epoch 78/100\n",
      "1500/1500 [==============================] - 0s 170us/step - loss: 0.0142 - accuracy: 0.9993\n",
      "Epoch 79/100\n",
      "1500/1500 [==============================] - 0s 170us/step - loss: 0.0139 - accuracy: 0.9993\n",
      "Epoch 80/100\n",
      "1500/1500 [==============================] - 0s 161us/step - loss: 0.0135 - accuracy: 0.9993\n",
      "Epoch 81/100\n",
      "1500/1500 [==============================] - 0s 172us/step - loss: 0.0135 - accuracy: 0.9987\n",
      "Epoch 82/100\n",
      "1500/1500 [==============================] - 0s 172us/step - loss: 0.0130 - accuracy: 0.9993\n",
      "Epoch 83/100\n",
      "1500/1500 [==============================] - 0s 178us/step - loss: 0.0127 - accuracy: 0.9993\n",
      "Epoch 84/100\n",
      "1500/1500 [==============================] - 0s 177us/step - loss: 0.0123 - accuracy: 0.9993\n",
      "Epoch 85/100\n",
      "1500/1500 [==============================] - 0s 160us/step - loss: 0.0123 - accuracy: 1.0000\n",
      "Epoch 86/100\n",
      "1500/1500 [==============================] - 0s 176us/step - loss: 0.0122 - accuracy: 0.9987\n",
      "Epoch 87/100\n",
      "1500/1500 [==============================] - 0s 164us/step - loss: 0.0120 - accuracy: 0.9993\n",
      "Epoch 88/100\n",
      "1500/1500 [==============================] - 0s 175us/step - loss: 0.0117 - accuracy: 0.9993\n",
      "Epoch 89/100\n",
      "1500/1500 [==============================] - 0s 194us/step - loss: 0.0115 - accuracy: 0.9993\n",
      "Epoch 90/100\n",
      "1500/1500 [==============================] - 0s 245us/step - loss: 0.0111 - accuracy: 0.9993\n",
      "Epoch 91/100\n",
      "1500/1500 [==============================] - 0s 220us/step - loss: 0.0110 - accuracy: 0.9993\n",
      "Epoch 92/100\n",
      "1500/1500 [==============================] - 0s 261us/step - loss: 0.0108 - accuracy: 0.9993\n",
      "Epoch 93/100\n",
      "1500/1500 [==============================] - 0s 249us/step - loss: 0.0104 - accuracy: 0.9993\n",
      "Epoch 94/100\n",
      "1500/1500 [==============================] - 0s 216us/step - loss: 0.0105 - accuracy: 0.9987\n",
      "Epoch 95/100\n",
      "1500/1500 [==============================] - 0s 196us/step - loss: 0.0104 - accuracy: 0.9993\n",
      "Epoch 96/100\n",
      "1500/1500 [==============================] - 0s 197us/step - loss: 0.0099 - accuracy: 1.0000\n",
      "Epoch 97/100\n",
      "1500/1500 [==============================] - 0s 170us/step - loss: 0.0099 - accuracy: 0.9993\n",
      "Epoch 98/100\n",
      "1500/1500 [==============================] - 0s 186us/step - loss: 0.0098 - accuracy: 0.9993\n",
      "Epoch 99/100\n",
      "1500/1500 [==============================] - 0s 206us/step - loss: 0.0096 - accuracy: 0.9993\n",
      "Epoch 100/100\n",
      "1500/1500 [==============================] - 0s 166us/step - loss: 0.0093 - accuracy: 0.9993\n"
     ]
    },
    {
     "data": {
      "text/plain": [
       "<keras.callbacks.callbacks.History at 0x13b18af90>"
      ]
     },
     "execution_count": 63,
     "metadata": {},
     "output_type": "execute_result"
    }
   ],
   "source": [
    "keras_clf = Sequential()\n",
    "\n",
    "# Hidden layers\n",
    "keras_clf.add(Dense(units = 2, activation = 'relu', input_dim = 3))\n",
    "keras_clf.add(Dense(units = 2, activation = 'relu'))\n",
    "\n",
    "# Sigmoide para problemas de classificação binária\n",
    "# E softmax para problemas de multiclasse\n",
    "keras_clf.add(Dense(units = 1, activation = 'sigmoid'))\n",
    "\n",
    "keras_clf.compile(optimizer = 'adam', loss = 'binary_crossentropy', metrics = ['accuracy'])\n",
    "keras_clf.fit(X_train, y_train, batch_size = 10, nb_epoch = 100)"
   ]
  },
  {
   "cell_type": "code",
   "execution_count": 64,
   "metadata": {},
   "outputs": [
    {
     "name": "stdout",
     "output_type": "stream",
     "text": [
      "accuracy 0.998\n",
      "precision 0.9846153846153847\n",
      "recall 1.0\n",
      "f1 0.9922480620155039\n"
     ]
    }
   ],
   "source": [
    "y_pred_keras = keras_clf.predict(X_test)\n",
    "y_pred_keras = (y_pred_keras > 0.5)\n",
    "\n",
    "print(\"accuracy\", accuracy_score(y_test, y_pred_keras))\n",
    "print(\"precision\", precision_score(y_test, y_pred_keras))\n",
    "print(\"recall\", recall_score(y_test, y_pred_keras))\n",
    "print(\"f1\", f1_score(y_test, y_pred_keras))"
   ]
  },
  {
   "cell_type": "code",
   "execution_count": 65,
   "metadata": {},
   "outputs": [
    {
     "data": {
      "text/plain": [
       "<matplotlib.axes._subplots.AxesSubplot at 0x11127f910>"
      ]
     },
     "execution_count": 65,
     "metadata": {},
     "output_type": "execute_result"
    },
    {
     "data": {
      "image/png": "[encoded data removed]",
      "text/plain": [
       "<Figure size 1080x288 with 4 Axes>"
      ]
     },
     "metadata": {},
     "output_type": "display_data"
    }
   ],
   "source": [
    "confMatrix = plotModule.ConfusionMatrix()\n",
    "fig = plt.figure(figsize=(15, 4), facecolor='w')\n",
    "\n",
    "confMatrix.plot(cm=confusion_matrix(y_test, y_pred),\n",
    "                classes=classes['default'].unique(),\n",
    "                title='Confusion Matrix SciKit',\n",
    "                fig=fig,\n",
    "                subplot_index=1)\n",
    "\n",
    "confMatrix.plot(cm=confusion_matrix(y_test, y_pred_keras),\n",
    "                classes=classes['default'].unique(),\n",
    "                title='Confusion Matrix Keras',\n",
    "                fig=fig,\n",
    "                subplot_index=2)"
   ]
  },
  {
   "cell_type": "code",
   "execution_count": null,
   "metadata": {},
   "outputs": [],
   "source": []
  },
  {
   "cell_type": "code",
   "execution_count": null,
   "metadata": {},
   "outputs": [],
   "source": []
  },
  {
   "cell_type": "code",
   "execution_count": null,
   "metadata": {},
   "outputs": [],
   "source": []
  }
 ],
 "metadata": {
  "kernelspec": {
   "display_name": "Python 3",
   "language": "python",
   "name": "python3"
  },
  "language_info": {
   "codemirror_mode": {
    "name": "ipython",
    "version": 3
   },
   "file_extension": ".py",
   "mimetype": "text/x-python",
   "name": "python",
   "nbconvert_exporter": "python",
   "pygments_lexer": "ipython3",
   "version": "3.7.7"
  }
 },
 "nbformat": 4,
 "nbformat_minor": 4
}
